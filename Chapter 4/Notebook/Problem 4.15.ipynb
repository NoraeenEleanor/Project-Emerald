{
 "cells": [
  {
   "cell_type": "code",
   "execution_count": 5,
   "id": "fcc635e6",
   "metadata": {},
   "outputs": [
    {
     "name": "stdout",
     "output_type": "stream",
     "text": [
      "Separator Gas Mmscf: 6.000 MMSCF\n",
      "Condensate Gas Equivalent Mmscf: 0.600 MMSCF\n",
      "Water Gas Equivalent Mmscf: 11.628 MMSCF\n",
      "Stock Tank Gas Mmscf: 0.021 MMSCF\n",
      "Total Gas Equivalent Mmscf: 18.249 MMSCF\n"
     ]
    }
   ],
   "source": [
    "def calc_tot_gas_equiv(sep_gas_mmscf, cond_stb, freshwater_bbl,\n",
    "                       cond_gas_equiv_mscf_per_stb = 6,\n",
    "                       water_vapor_content_bbl_per_mmscf = 0.86,\n",
    "                       stock_tank_gas_mscf = 0):\n",
    "    \n",
    "    # Convert condensate to gas equivalnt (MMSCF)\n",
    "    cond_gas_equiv = (cond_stb * cond_gas_equiv_mscf_per_stb) / 1000 # to MMSCF\n",
    "    \n",
    "    # Convert water to gas equivalent (MMSCF)\n",
    "    water_gas_equiv = freshwater_bbl / water_vapor_content_bbl_per_mmscf\n",
    "    \n",
    "    # Convert stock tank gas from MSCF to MMSCF\n",
    "    stock_tank_gas_mmscf = stock_tank_gas_mscf / 1000\n",
    "    \n",
    "    # Total gas production\n",
    "    total_gas_equiv = sep_gas_mmscf + cond_gas_equiv + water_gas_equiv + stock_tank_gas_mmscf\n",
    "    \n",
    "    return {\n",
    "        \"separator_gas_mmscf\": sep_gas_mmscf,\n",
    "        \"condensate_gas_equivalent_mmscf\": cond_gas_equiv,\n",
    "        \"water_gas_equivalent_mmscf\": water_gas_equiv,\n",
    "        \"stock_tank_gas_mmscf\": stock_tank_gas_mmscf,\n",
    "        \"total_gas_equivalent_mmscf\": total_gas_equiv  \n",
    "    }\n",
    "    \n",
    "# Example\n",
    "results = calc_tot_gas_equiv(sep_gas_mmscf = 6,\n",
    "                                 cond_stb = 100,\n",
    "                                 freshwater_bbl = 10,\n",
    "                                 cond_gas_equiv_mscf_per_stb = 6,\n",
    "                                 water_vapor_content_bbl_per_mmscf = 0.86,\n",
    "                                 stock_tank_gas_mscf = 21\n",
    "                                 )\n",
    "    \n",
    "# Print the results\n",
    "for key, value in results.items():\n",
    "    print(f\"{key.replace('_',' ').title()}: {value:.3f} MMSCF\") "
   ]
  },
  {
   "cell_type": "code",
   "execution_count": null,
   "id": "59d8bda9",
   "metadata": {},
   "outputs": [],
   "source": []
  }
 ],
 "metadata": {
  "kernelspec": {
   "display_name": "yohanesenv",
   "language": "python",
   "name": "python3"
  },
  "language_info": {
   "codemirror_mode": {
    "name": "ipython",
    "version": 3
   },
   "file_extension": ".py",
   "mimetype": "text/x-python",
   "name": "python",
   "nbconvert_exporter": "python",
   "pygments_lexer": "ipython3",
   "version": "3.10.13"
  }
 },
 "nbformat": 4,
 "nbformat_minor": 5
}
