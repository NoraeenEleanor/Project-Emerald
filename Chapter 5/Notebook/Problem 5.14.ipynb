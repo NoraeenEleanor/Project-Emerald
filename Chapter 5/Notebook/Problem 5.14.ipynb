{
 "cells": [
  {
   "cell_type": "code",
   "execution_count": 2,
   "id": "d024a02c",
   "metadata": {},
   "outputs": [
    {
     "data": {
      "text/plain": [
       "2.631"
      ]
     },
     "execution_count": 2,
     "metadata": {},
     "output_type": "execute_result"
    }
   ],
   "source": [
    "def res_vol_from_stb_cond(api_gravity, res_pressure_psia, res_temp_f, gas_gravity, z_factor=0.83):\n",
    "    R = 10.7316             # psia·ft³ / (lbmol·°R)\n",
    "    STB_to_ft3 = 5.615      # 1 STB = 5.615 ft³\n",
    "    H20_density = 62.4      # lb/ft³\n",
    "    \n",
    "    sg_cond = 141.5 / (api_gravity + 131.5)     # Convert API to SG\n",
    "    MW_cond = 424 * sg_cond                     # Estimate MW of condensate vapor\n",
    "    density_cond = sg_cond * H20_density        # Calculate density of 1 STB (lb/ft³)\n",
    "    mass_cond = density_cond * STB_to_ft3       # Calculate mass of 1 STB (lb)\n",
    "    n_moles = mass_cond / MW_cond               # Moles of condensate vapor\n",
    "    temp_R = res_temp_f + 459.67                # Convert temperature to Rankine    \n",
    "    \n",
    "    vol_ft3 = (n_moles * R * temp_R) / (res_pressure_psia * z_factor)   # Apply Real Gas Law to find volume\n",
    "    return round(vol_ft3, 3)\n",
    "\n",
    "# Eample input\n",
    "vol_ft3_results = res_vol_from_stb_cond(\n",
    "    api_gravity = 55,\n",
    "    res_pressure_psia = 2740,\n",
    "    res_temp_f = 215,\n",
    "    gas_gravity = 0.76,\n",
    "    z_factor = 0.83\n",
    ")\n",
    "\n",
    "vol_ft3_results"
   ]
  },
  {
   "cell_type": "code",
   "execution_count": null,
   "id": "6617829a",
   "metadata": {},
   "outputs": [],
   "source": []
  }
 ],
 "metadata": {
  "kernelspec": {
   "display_name": "yohanesenv",
   "language": "python",
   "name": "python3"
  },
  "language_info": {
   "codemirror_mode": {
    "name": "ipython",
    "version": 3
   },
   "file_extension": ".py",
   "mimetype": "text/x-python",
   "name": "python",
   "nbconvert_exporter": "python",
   "pygments_lexer": "ipython3",
   "version": "3.10.13"
  }
 },
 "nbformat": 4,
 "nbformat_minor": 5
}
