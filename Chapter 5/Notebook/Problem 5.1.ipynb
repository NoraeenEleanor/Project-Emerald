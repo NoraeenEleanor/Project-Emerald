{
 "cells": [
  {
   "cell_type": "code",
   "execution_count": null,
   "id": "7ca2ccd9",
   "metadata": {},
   "outputs": [
    {
     "name": "stdout",
     "output_type": "stream",
     "text": [
      "Recovered Gas: 1105.00 Mscf\n",
      "Gas Revenue: $6,630.00\n",
      "Recovered Condensate: 66.70 STB\n",
      "Condensate Revenue: $6,336.50\n",
      "Total Reserve Value per ac-ft: $12,966.50\n"
     ]
    },
    {
     "data": {
      "text/plain": [
       "12966.5"
      ]
     },
     "execution_count": 2,
     "metadata": {},
     "output_type": "execute_result"
    }
   ],
   "source": [
    "def calculate_reserve_value(\n",
    "    gas_in_place_mscf,\n",
    "    gas_recovery,\n",
    "    gas_price_per_mscf,\n",
    "    condensate_in_place_stb,\n",
    "    condensate_recovery,\n",
    "    condensate_price_per_stb\n",
    "):\n",
    "    #💻 Recovered volumes\n",
    "    recoverable_gas = gas_in_place_mscf * gas_recovery\n",
    "    recoverable_condensate = condensate_in_place_stb * condensate_recovery\n",
    "    \n",
    "    #💻 Revenues\n",
    "    gas_revenue = recoverable_gas * gas_price_per_mscf\n",
    "    condensate_revenue = recoverable_condensate * condensate_price_per_stb\n",
    "    total_revenue = gas_revenue + condensate_revenue\n",
    "    \n",
    "    #💻 Print summary\n",
    "    print(f\"Recovered Gas: {recoverable_gas:.2f} Mscf\")\n",
    "    print(f\"Gas Revenue: ${gas_revenue:,.2f}\")\n",
    "    print(f\"Recovered Condensate: {recoverable_condensate:.2f} STB\")\n",
    "    print(f\"Condensate Revenue: ${condensate_revenue:,.2f}\")\n",
    "    print(f\"Total Reserve Value per ac-ft: ${total_revenue:,.2f}\")\n",
    "    \n",
    "    return total_revenue\n",
    "\n",
    "#📊 Example\n",
    "calculate_reserve_value(\n",
    "    gas_in_place_mscf = 1300,\n",
    "    gas_recovery = 0.85,\n",
    "    gas_price_per_mscf = 6.0,\n",
    "    condensate_in_place_stb = 115,\n",
    "    condensate_recovery = 0.58,\n",
    "    condensate_price_per_stb = 95.0\n",
    ")"
   ]
  },
  {
   "cell_type": "code",
   "execution_count": null,
   "id": "795ffc39",
   "metadata": {},
   "outputs": [],
   "source": []
  }
 ],
 "metadata": {
  "kernelspec": {
   "display_name": "yohanesenv",
   "language": "python",
   "name": "python3"
  },
  "language_info": {
   "codemirror_mode": {
    "name": "ipython",
    "version": 3
   },
   "file_extension": ".py",
   "mimetype": "text/x-python",
   "name": "python",
   "nbconvert_exporter": "python",
   "pygments_lexer": "ipython3",
   "version": "3.10.13"
  }
 },
 "nbformat": 4,
 "nbformat_minor": 5
}
